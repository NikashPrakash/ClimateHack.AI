{
 "cells": [
  {
   "cell_type": "markdown",
   "metadata": {},
   "source": [
    "# ClimateHack.AI 2023 Data\n",
    "\n",
    "Thank you for participating in ClimateHack.AI 2022! \n",
    "\n",
    "Your contributions could help cut carbon emissions by up to 100 kilotonnes per year in Great Britain alone. We look forward to seeing what you build over the course of the competition!\n",
    "\n",
    "As with any machine learning task, the best place to start is by inspecting the data available, and for this competition, we are spoiled for choice!"
   ]
  },
  {
   "cell_type": "markdown",
   "metadata": {},
   "source": [
    "## Prerequisites\n",
    "\n",
    "If you do not have the following Python packages installed, you can uncomment and run the following line to install them with `pip`. "
   ]
  },
  {
   "cell_type": "code",
   "execution_count": null,
   "metadata": {},
   "outputs": [],
   "source": [
    "# %pip install numpy matplotlib zarr xarray ipykernel gcsfs fsspec dask cartopy ocf-blosc2"
   ]
  },
  {
   "cell_type": "markdown",
   "metadata": {},
   "source": [
    "## Importing packages"
   ]
  },
  {
   "cell_type": "code",
   "execution_count": null,
   "metadata": {},
   "outputs": [],
   "source": [
    "from datetime import datetime, time, timedelta\n",
    "\n",
    "import cartopy.crs as ccrs\n",
    "import matplotlib.pyplot as plt\n",
    "import numpy as np\n",
    "import pandas as pd\n",
    "import xarray as xr\n",
    "from ocf_blosc2 import Blosc2\n",
    "\n",
    "plt.rcParams[\"figure.figsize\"] = (20, 12)"
   ]
  },
  {
   "cell_type": "markdown",
   "metadata": {},
   "source": [
    "## HRV Satellite Imagery"
   ]
  },
  {
   "cell_type": "code",
   "execution_count": null,
   "metadata": {},
   "outputs": [],
   "source": [
    "hrv = xr.open_dataset(\n",
    "    \"zip:///::https://huggingface.co/datasets/climatehackai/climatehackai-2023/resolve/main/satellite-hrv/2020/7.zarr.zip\",\n",
    "    engine=\"zarr\",\n",
    "    consolidated=True,\n",
    ")\n",
    "\n",
    "hrv"
   ]
  },
  {
   "cell_type": "code",
   "execution_count": null,
   "metadata": {},
   "outputs": [],
   "source": [
    "hrv[\"data\"].sel(time=\"2020-07-20 10:00\").plot()  # type: ignore"
   ]
  },
  {
   "cell_type": "code",
   "execution_count": null,
   "metadata": {},
   "outputs": [],
   "source": [
    "ax = plt.axes(projection=ccrs.Geostationary(central_longitude=9.5))\n",
    "\n",
    "hrv[\"data\"].sel(time=\"2020-07-20 10:00\", channel=\"HRV\").plot.pcolormesh(\n",
    "    ax=ax,\n",
    "    transform=ccrs.Geostationary(central_longitude=9.5),\n",
    "    x=\"x_geostationary\",\n",
    "    y=\"y_geostationary\",\n",
    "    add_colorbar=False,\n",
    ")  # type: ignore\n",
    "\n",
    "ax.coastlines()"
   ]
  },
  {
   "cell_type": "markdown",
   "metadata": {},
   "source": [
    "## Non-HRV Satellite Imagery"
   ]
  },
  {
   "cell_type": "code",
   "execution_count": null,
   "metadata": {},
   "outputs": [],
   "source": [
    "nonhrv = xr.open_dataset(\n",
    "    \"zip:///::https://huggingface.co/datasets/climatehackai/climatehackai-2023/resolve/main/satellite-nonhrv/2020/7.zarr.zip\",\n",
    "    engine=\"zarr\",\n",
    "    consolidated=True,\n",
    ")\n",
    "\n",
    "nonhrv"
   ]
  },
  {
   "cell_type": "code",
   "execution_count": null,
   "metadata": {},
   "outputs": [],
   "source": [
    "nonhrv.channel"
   ]
  },
  {
   "cell_type": "code",
   "execution_count": null,
   "metadata": {},
   "outputs": [],
   "source": [
    "nonhrv[\"data\"].sel(time=\"2020-07-20 10:00\", channel=\"IR_016\").plot()  # type: ignore"
   ]
  },
  {
   "cell_type": "code",
   "execution_count": null,
   "metadata": {},
   "outputs": [],
   "source": [
    "nwp = xr.open_dataset(\n",
    "    \"zip:///::https://huggingface.co/datasets/climatehackai/climatehackai-2023/resolve/main/weather/2020/7.zarr.zip\",\n",
    "    engine=\"zarr\",\n",
    "    consolidated=True,\n",
    ")\n",
    "\n",
    "nwp"
   ]
  },
  {
   "cell_type": "markdown",
   "metadata": {},
   "source": [
    "### Ground temperatures"
   ]
  },
  {
   "cell_type": "code",
   "execution_count": null,
   "metadata": {},
   "outputs": [],
   "source": [
    "ax = plt.axes(projection=ccrs.PlateCarree())\n",
    "\n",
    "(nwp[\"t_g\"].sel(time=\"2020-07-20 10:00\") - 273.15).plot.pcolormesh(\n",
    "    ax=ax,\n",
    "    transform=ccrs.PlateCarree(),\n",
    "    x=\"longitude\",\n",
    "    y=\"latitude\",\n",
    "    add_colorbar=True,\n",
    "    cmap=\"coolwarm\",\n",
    ")  # type: ignore\n",
    "\n",
    "ax.coastlines()"
   ]
  },
  {
   "cell_type": "markdown",
   "metadata": {},
   "source": [
    "### Cloud cover"
   ]
  },
  {
   "cell_type": "code",
   "execution_count": null,
   "metadata": {},
   "outputs": [],
   "source": [
    "ax = plt.axes(projection=ccrs.PlateCarree())\n",
    "\n",
    "(nwp[\"clct\"].sel(time=\"2020-07-20 10:00\") - 273.15).plot.pcolormesh(\n",
    "    ax=ax,\n",
    "    transform=ccrs.PlateCarree(),\n",
    "    x=\"longitude\",\n",
    "    y=\"latitude\",\n",
    "    add_colorbar=True,\n",
    ")  # type: ignore\n",
    "\n",
    "ax.coastlines()"
   ]
  },
  {
   "cell_type": "markdown",
   "metadata": {},
   "source": [
    "## All weather variables"
   ]
  },
  {
   "cell_type": "code",
   "execution_count": null,
   "metadata": {},
   "outputs": [],
   "source": [
    "nrows = 8\n",
    "ncols = 5\n",
    "\n",
    "fig, ax = plt.subplots(\n",
    "    nrows=nrows,\n",
    "    ncols=ncols,\n",
    "    figsize=(10, 20),\n",
    "    subplot_kw={\"projection\": ccrs.PlateCarree()},\n",
    ")\n",
    "\n",
    "for i, var in enumerate(nwp.data_vars):\n",
    "    nwp[var].sel(time=\"2020-07-20 10:00\",).plot.pcolormesh(\n",
    "        ax=ax[i // ncols][i % ncols],\n",
    "        transform=ccrs.PlateCarree(),\n",
    "        x=\"longitude\",\n",
    "        y=\"latitude\",\n",
    "        add_colorbar=False,\n",
    "        cmap=\"coolwarm\" if var.split(\"_\")[0] in (\"t\", \"v\", \"u\") else \"viridis\",\n",
    "    )\n",
    "\n",
    "    ax[i // ncols][i % ncols].coastlines()\n",
    "    ax[i // ncols][i % ncols].get_xaxis().set_visible(False)\n",
    "    ax[i // ncols][i % ncols].get_yaxis().set_visible(False)\n",
    "    ax[i // ncols][i % ncols].set_title(var)\n",
    "\n",
    "fig.tight_layout()\n",
    "fig.subplots_adjust(wspace=0.1, hspace=0.1)"
   ]
  }
 ],
 "metadata": {
  "kernelspec": {
   "display_name": "ml",
   "language": "python",
   "name": "python3"
  },
  "language_info": {
   "codemirror_mode": {
    "name": "ipython",
    "version": 3
   },
   "file_extension": ".py",
   "mimetype": "text/x-python",
   "name": "python",
   "nbconvert_exporter": "python",
   "pygments_lexer": "ipython3",
   "version": "3.10.12"
  }
 },
 "nbformat": 4,
 "nbformat_minor": 2
}
